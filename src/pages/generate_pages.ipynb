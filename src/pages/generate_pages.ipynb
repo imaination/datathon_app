{
 "cells": [
  {
   "cell_type": "code",
   "execution_count": null,
   "id": "fabb8ec0",
   "metadata": {},
   "outputs": [],
   "source": [
    "# create .py files for each movement\n",
    "\n",
    "#need data from\n",
    "    #unique_movements.csv\n",
    "    #links from aws s3 bucket, also a list of indices that separates the movements"
   ]
  },
  {
   "cell_type": "code",
   "execution_count": null,
   "id": "b8e552dd",
   "metadata": {},
   "outputs": [],
   "source": [
    "# template\n",
    "\n",
    "# import dash\n",
    "# import dash_bootstrap_components as dbc\n",
    "\n",
    "# dash.register_page(__name__, path='/Baroque', name=\"Baroque\")\n",
    "\n",
    "\n",
    "# def layout():\n",
    "#         carousel2 = dbc.Carousel(\n",
    "#                 items=[\n",
    "#                         {\"key\": \"1\", \"src\": \"https://aiartgallery1234.s3.eu-central-1.amazonaws.com/1.gif\", \"header\": \"HEADER HERE\", \"caption\": \"caption here, maybe generate images to text\",},\n",
    "#                         {\"key\": \"2\", \"src\": \"https://kuleuven-datathon-2023.s3.eu-central-1.amazonaws.com/images/Vincent+Van+Gogh/Cypress+against+a+Starry+Sky.jpg\", \"header\": \"HEADER HERE\", \"caption\": \"caption here, maybe generate images to text\",},\n",
    "#                 ],\n",
    "#                 className=\"carousel-fade\",\n",
    "#                 style={\"width\": \"80%\", \"height\": \"70%\", \"padding-top\": \"70px\", \"margin-left\": \"auto\", \"margin-right\": \"auto\"}\n",
    "#         )\n",
    "#         return carousel2\n"
   ]
  },
  {
   "cell_type": "code",
   "execution_count": 19,
   "id": "7b7cdceb",
   "metadata": {},
   "outputs": [],
   "source": [
    "import pandas as pd\n",
    "import os"
   ]
  },
  {
   "cell_type": "code",
   "execution_count": 26,
   "id": "773bea8d",
   "metadata": {},
   "outputs": [],
   "source": [
    "PATH = os.path.dirname(os.getcwd())\n",
    "DATA_PATH = os.path.join(PATH, 'assets')\n",
    "\n",
    "movement = 'unique_movements.csv'\n",
    "# gifs = 'gifs.csv'\n",
    "\n",
    "movement_df = pd.read_csv(os.path.join(DATA_PATH, movement))\n",
    "# gifs_df = pd.read_csv(os.path.join(DATA_PATH, gifs))"
   ]
  },
  {
   "cell_type": "code",
   "execution_count": 42,
   "id": "6769d915",
   "metadata": {},
   "outputs": [
    {
     "name": "stdout",
     "output_type": "stream",
     "text": [
      "Academism\n",
      "Art Nouveau\n",
      "Baroque\n",
      "Expressionism\n",
      "Hudson River School\n",
      "Impressionism\n",
      "Mannerism\n",
      "Neoclassicism\n",
      "Orientalism\n",
      "Post-Impressionism\n",
      "Pre-Raphaelite Brotherhood\n",
      "Realism\n",
      "Renaissance\n",
      "Romanticism\n",
      "Symbolism\n"
     ]
    }
   ],
   "source": [
    "for movement in movement_df.movement:\n",
    "    print(movement)\n",
    "    f = open(\"{}.py\".format(movement), \"w\")\n",
    "    f.write(\"import dash\\n\")\n",
    "    f.write(\"import dash_bootstrap_components as dbc\\n\")\n",
    "    f.write(\"from .get_items import items\\n\")\n",
    "\n",
    "    f.write(\"dash.register_page(__name__, path='/{}', name='{}')\\n\".format(movement, movement))\n",
    "\n",
    "    f.write(\n",
    "        \"def layout():\\n\"\n",
    "            \"\\tcarousel = dbc.Carousel(\\n\"\n",
    "                    \"\\t\\titems=items(1,5),\\n\"\n",
    "                    \"\\t\\tclassName='carousel-fade',\"\n",
    "                    \"style={'width': '80%', 'height': '70%', 'padding-top': '70px', 'margin-left': 'auto', 'margin-right': 'auto'}\\n\"\n",
    "            \"\\t)\\n\"\n",
    "            \"\\treturn carousel\\n\"\n",
    "    )\n",
    "    f.close()"
   ]
  },
  {
   "cell_type": "code",
   "execution_count": null,
   "id": "6075b170",
   "metadata": {},
   "outputs": [],
   "source": [
    "# need to make an excel sheet that has index, url to gif in aws, header, caption"
   ]
  },
  {
   "cell_type": "code",
   "execution_count": 36,
   "id": "460b63b9",
   "metadata": {},
   "outputs": [],
   "source": [
    "# def get_items(df):\n",
    "#     items = []\n",
    "#     for idx, rows in df.iterrows():\n",
    "#         movement_dict = {\n",
    "#             \"key\": str(idx),\n",
    "#             \"src\": rows['url'],\n",
    "#             \"header\": rows['header'],\n",
    "#             \"caption\": rows['caption'],\n",
    "#         }\n",
    "\n",
    "#         items.append(movement_dict)\n",
    "#     return items\n"
   ]
  },
  {
   "cell_type": "code",
   "execution_count": 39,
   "id": "473c9143",
   "metadata": {},
   "outputs": [],
   "source": [
    "# items = get_items(gifs_df.iloc[0:5])"
   ]
  },
  {
   "cell_type": "code",
   "execution_count": 40,
   "id": "1e8e1af4",
   "metadata": {},
   "outputs": [
    {
     "data": {
      "text/plain": [
       "[{'key': '0',\n",
       "  'src': 'https://aiartgallery1234.s3.eu-central-1.amazonaws.com/1.gif',\n",
       "  'header': 'header here',\n",
       "  'caption': 'caption here'},\n",
       " {'key': '1',\n",
       "  'src': 'https://aiartgallery1234.s3.eu-central-1.amazonaws.com/2.gif',\n",
       "  'header': 'header here',\n",
       "  'caption': 'caption here'},\n",
       " {'key': '2',\n",
       "  'src': 'https://aiartgallery1234.s3.eu-central-1.amazonaws.com/4.gif',\n",
       "  'header': 'header here',\n",
       "  'caption': 'caption here'},\n",
       " {'key': '3',\n",
       "  'src': 'https://aiartgallery1234.s3.eu-central-1.amazonaws.com/5.gif',\n",
       "  'header': 'header here',\n",
       "  'caption': 'caption here'},\n",
       " {'key': '4',\n",
       "  'src': 'https://aiartgallery1234.s3.eu-central-1.amazonaws.com/6.gif',\n",
       "  'header': 'header here',\n",
       "  'caption': 'caption here'}]"
      ]
     },
     "execution_count": 40,
     "metadata": {},
     "output_type": "execute_result"
    }
   ],
   "source": [
    "# items"
   ]
  },
  {
   "cell_type": "code",
   "execution_count": null,
   "id": "be2bb3e2",
   "metadata": {},
   "outputs": [],
   "source": []
  }
 ],
 "metadata": {
  "kernelspec": {
   "display_name": "Python 3 (ipykernel)",
   "language": "python",
   "name": "python3"
  },
  "language_info": {
   "codemirror_mode": {
    "name": "ipython",
    "version": 3
   },
   "file_extension": ".py",
   "mimetype": "text/x-python",
   "name": "python",
   "nbconvert_exporter": "python",
   "pygments_lexer": "ipython3",
   "version": "3.8.16"
  },
  "toc": {
   "base_numbering": 1,
   "nav_menu": {},
   "number_sections": true,
   "sideBar": true,
   "skip_h1_title": false,
   "title_cell": "Table of Contents",
   "title_sidebar": "Contents",
   "toc_cell": false,
   "toc_position": {},
   "toc_section_display": true,
   "toc_window_display": false
  },
  "varInspector": {
   "cols": {
    "lenName": 16,
    "lenType": 16,
    "lenVar": 40
   },
   "kernels_config": {
    "python": {
     "delete_cmd_postfix": "",
     "delete_cmd_prefix": "del ",
     "library": "var_list.py",
     "varRefreshCmd": "print(var_dic_list())"
    },
    "r": {
     "delete_cmd_postfix": ") ",
     "delete_cmd_prefix": "rm(",
     "library": "var_list.r",
     "varRefreshCmd": "cat(var_dic_list()) "
    }
   },
   "types_to_exclude": [
    "module",
    "function",
    "builtin_function_or_method",
    "instance",
    "_Feature"
   ],
   "window_display": false
  }
 },
 "nbformat": 4,
 "nbformat_minor": 5
}
