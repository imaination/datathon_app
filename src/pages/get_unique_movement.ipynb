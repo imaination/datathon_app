{
 "cells": [
  {
   "cell_type": "code",
   "execution_count": 1,
   "id": "11dfc7d2",
   "metadata": {},
   "outputs": [],
   "source": [
    "# preprocess movement data for home page of the website\n",
    "# want name, description, png\n",
    "import pandas as pd\n",
    "import os"
   ]
  },
  {
   "cell_type": "code",
   "execution_count": 2,
   "id": "cd43220f",
   "metadata": {},
   "outputs": [],
   "source": [
    "PATH = os.path.dirname(os.getcwd())\n",
    "DATA_PATH = os.path.join(PATH, 'assets')\n",
    "Artwork_Best = 'Artwork_Best.csv'"
   ]
  },
  {
   "cell_type": "code",
   "execution_count": 3,
   "id": "ae08d0c5",
   "metadata": {},
   "outputs": [],
   "source": [
    "df = pd.read_csv(os.path.join(DATA_PATH, Artwork_Best))"
   ]
  },
  {
   "cell_type": "code",
   "execution_count": 4,
   "id": "52fa666e",
   "metadata": {},
   "outputs": [],
   "source": [
    "# get one row of each movement (want columns name, image_url, artist, movement, description)\n",
    "\n",
    "unique_movements = df.groupby('movement').first().reset_index()\n",
    "#unique_movements.head()\n",
    "\n",
    "# keep necessary columns\n",
    "keep_col = ['movement', 'name', 'image_url', 'artist', 'description']\n",
    "unique_movements = unique_movements[keep_col]"
   ]
  },
  {
   "cell_type": "code",
   "execution_count": 5,
   "id": "63bd56ff",
   "metadata": {},
   "outputs": [],
   "source": [
    "unique_movements.to_csv(os.path.join(DATA_PATH, 'unique_movements.csv'))\n",
    "# 'unique_movements.csv'"
   ]
  }
 ],
 "metadata": {
  "kernelspec": {
   "display_name": "Python 3 (ipykernel)",
   "language": "python",
   "name": "python3"
  },
  "language_info": {
   "codemirror_mode": {
    "name": "ipython",
    "version": 3
   },
   "file_extension": ".py",
   "mimetype": "text/x-python",
   "name": "python",
   "nbconvert_exporter": "python",
   "pygments_lexer": "ipython3",
   "version": "3.8.16"
  },
  "toc": {
   "base_numbering": 1,
   "nav_menu": {},
   "number_sections": true,
   "sideBar": true,
   "skip_h1_title": false,
   "title_cell": "Table of Contents",
   "title_sidebar": "Contents",
   "toc_cell": false,
   "toc_position": {},
   "toc_section_display": true,
   "toc_window_display": false
  },
  "varInspector": {
   "cols": {
    "lenName": 16,
    "lenType": 16,
    "lenVar": 40
   },
   "kernels_config": {
    "python": {
     "delete_cmd_postfix": "",
     "delete_cmd_prefix": "del ",
     "library": "var_list.py",
     "varRefreshCmd": "print(var_dic_list())"
    },
    "r": {
     "delete_cmd_postfix": ") ",
     "delete_cmd_prefix": "rm(",
     "library": "var_list.r",
     "varRefreshCmd": "cat(var_dic_list()) "
    }
   },
   "types_to_exclude": [
    "module",
    "function",
    "builtin_function_or_method",
    "instance",
    "_Feature"
   ],
   "window_display": false
  }
 },
 "nbformat": 4,
 "nbformat_minor": 5
}
